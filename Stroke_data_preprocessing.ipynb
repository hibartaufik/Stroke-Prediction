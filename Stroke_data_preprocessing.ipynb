#Hal-hal yang ditemukan pada data dan perlu pengolahan pada data
#agar mendapatkan model data yang ideal untuk membuat model machine learning
#1. Seimbangkan jumlah data target yang mengidap stroke (1) dan yang tidak (0)
#2. Ubah kolom dengan data yang bertipe object menjadi numerik

#1. Seimbangkan jumlah data target yang mengidap stroke (1) dan yang tidak (0)
train['stroke'].value_counts()

#pisahkan data target yang mengidap stroke dengan yang tidak ke dalam variabel yang berbeda
negatif = train.loc[train['stroke'] == 0]
positif = train.loc[train['stroke'] == 1]

#Seimbangkan jumlah data dengan menyamakan data negatif dengan data positif
#karena perbandingan data yang jauh, akan lebih baik dilakukan dengan metode Undersampling
#lakukan undersampling dengan menyamakan jumlah data negatif
#yang lebih banyak dengan jumlah data positif yang lebih sedikit
negatif = negatif[:len(positif)]

#cek kembali jumlah data target
print(f"Jumlah Data Negatif:\t{len(negatif)}\n")
print(f"Jumlah Data Positif:\t{len(positif)}")

#gabungkan data negatif dengan positif
new_data = pd.concat([negatif, positif], ignore_index=True)

#2. Ubah kolom dengan data yang bertipe object menjadi numerik
#menggunakan metode One Hot Encoding karena data yang akan dirubah tidak memiliki peringkat/tingkatan

#lakukan pada data yang sudah diseimbangkan
new_data = pd.get_dummies(new_data, drop_first=True)
#lakukan pada data yang tidak diseimbangkan
train = pd.get_dummies(train, drop_first=True)
#lakukan pada data test juga
test = pd.get_dummies(test, drop_first=True)
