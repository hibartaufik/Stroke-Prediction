#import library yang akan digunakan
import pandas as pd
import matplotlib.pyplot as plt

import seaborn as sns
import numpy as np

from sklearn.model_selection import train_test_split
from sklearn.metrics import classification_report

from sklearn.metrics import confusion_matrix
from sklearn.tree import DecisionTreeClassifier

#import data
train = pd.read_csv('/content/data latih.csv')
test = pd.read_csv('/content/data test.csv')
