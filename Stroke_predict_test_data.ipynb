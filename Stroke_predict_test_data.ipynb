#Lakukan prediksi pada data test
#drop 'id_pasien' terlebih dahulu
new_test = test.drop('id_pasien', axis=1)

#melakukan prediksi pada model dengan data yang diseimbangkan, lalu masukan ke variabel baru
predict = model_dt.predict(new_test)

#melakukan prediksi pada model dengan data yang tidak diseimbangkan, lalu masukan ke variabel baru
predict_pure = model_dt_pure.predict(new_test)

#membuat dataframe yang akan dikumpulkan di kaggle.com

#lakukan pada prediksi dengan data yang diseimbangkan
collect_1 = pd.DataFrame()
collect_1['id_pasien'] = test['id_pasien']
collect_1['stroke'] = predict

#lakukan pada prediksi dengan data yang tidak diseimbangkan
collect_2 = pd.DataFrame()
collect_2['id_pasien'] = test['id_pasien']
collect_2['stroke'] = predict_pure

#EXPORT PREDICTION
#export dataframe yang berisi prediksi
collect_1.to_csv('collect1.csv', index=False)
collect_2.to_csv('collect2.csv', index=False)
