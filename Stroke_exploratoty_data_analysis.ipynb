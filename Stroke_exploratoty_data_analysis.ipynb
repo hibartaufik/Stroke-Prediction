#melihat 5 data teratas
train.head()

#melihat tipe data tiap kolom
train.info

#melihat summary statistic
train.describe(include='all')

#melihat bentuk data
train.shape

#mengecek apakah ada nilai null pada setiap kolom
train.isnull().sum()

#melihat urutan pasein berdasarkan umur
train.sort_values('umur', ascending=False)
train.sort_values('umur', ascending=True)

#melihat jumlah pasien berdasarkan gender dengan bar plot
plt.style.use('ggplot')
fg, ax = plt.subplots(figsize=(12,6))
sns.countplot(x=train['jenis_kelamin'])
plt.title("JUMLAH PASIEN BERDASARKAN GENDER", pad=20, fontsize=20, fontweight='bold')
plt.xlabel("Gender", fontsize=14)
plt.ylabel("Jumlah Pasien", fontsize=14)
plt.show()

#melihat korelasi tiap feature
train.corr()

#melihat korelasi tiap feature dengan visualisasi heatmap
plt.style.use('ggplot')
fg, ax = plt.subplots(figsize=(15,8))
mask = np.triu(train.corr())
sns.heatmap(train.corr(), cmap='Reds', mask=mask, annot=True, linewidths=2)
plt.title('KORELASI TIAP FEATURE', pad=20, fontsize=20, fontweight='bold')
plt.show()

#melihat jumlah data yang akan diprediksi (target/label)
train['stroke'].value_counts()
