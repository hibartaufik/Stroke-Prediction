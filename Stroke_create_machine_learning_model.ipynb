#Pisahkan data terlebih dahulu menjadi data feature dan target

#lakukan pada data yang diseimbangkan (new_data)
X = new_data.drop(['id_pasien', 'stroke'], axis=1)
y = new_data['stroke']

#lakukan pada data yang tidak diseimbangkan (train)
X_pure = train.drop(['id_pasien', 'stroke'], axis=1)
y_pure = train['stroke']

#pisahkan data untuk 70% melatih data dan 30% untuk testing
X_train, X_test, y_train, y_test = train_test_split(X, y, test_size=0.3, stratify=y)
X2_train, X2_test, y2_train, y2_test = train_test_split(X_pure, y_pure, test_size=0.3, stratify=y_pure)

#buat model dengan Decision Tree

#buat dan pasangkan model dengan data train yang telah diseimbangkan
model_dt = DecisionTreeClassifier().fit(X_train, y_train)
#buat dan pasangkan model dengan data train yang tidak diseimbangkan
model_dt_pure = DecisionTreeClassifier().fit(X2_train, y2_train)
